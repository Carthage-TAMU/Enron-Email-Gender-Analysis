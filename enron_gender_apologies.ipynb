{
 "cells": [
  {
   "cell_type": "code",
   "execution_count": 25,
   "metadata": {},
   "outputs": [
    {
     "name": "stderr",
     "output_type": "stream",
     "text": [
      "[nltk_data] Downloading package stopwords to\n",
      "[nltk_data]     C:\\Users\\baile\\AppData\\Roaming\\nltk_data...\n",
      "[nltk_data]   Package stopwords is already up-to-date!\n",
      "[nltk_data] Downloading package punkt to\n",
      "[nltk_data]     C:\\Users\\baile\\AppData\\Roaming\\nltk_data...\n",
      "[nltk_data]   Unzipping tokenizers\\punkt.zip.\n"
     ]
    },
    {
     "data": {
      "text/plain": [
       "True"
      ]
     },
     "execution_count": 25,
     "metadata": {},
     "output_type": "execute_result"
    }
   ],
   "source": [
    "import pandas as pd\n",
    "from nltk.corpus import stopwords\n",
    "nltk.download('stopwords')\n",
    "nltk.download('punkt')"
   ]
  },
  {
   "cell_type": "markdown",
   "metadata": {},
   "source": [
    "Clean the data"
   ]
  },
  {
   "cell_type": "code",
   "execution_count": 21,
   "metadata": {},
   "outputs": [],
   "source": [
    "enron_emails = pd.read_csv('clean_enron_emails.csv')\n",
    "enron_emails = enron_emails.drop(columns = ['Unnamed: 0', 'Unnamed: 0.1', 'text_tokens'])"
   ]
  },
  {
   "cell_type": "code",
   "execution_count": 31,
   "metadata": {},
   "outputs": [],
   "source": [
    "enron_emails['clean_text'] = [row.lower() for row in enron_emails['clean_text']]"
   ]
  },
  {
   "cell_type": "code",
   "execution_count": 32,
   "metadata": {},
   "outputs": [],
   "source": [
    "stop_words = set(stopwords.words('english'))"
   ]
  },
  {
   "cell_type": "code",
   "execution_count": 33,
   "metadata": {},
   "outputs": [],
   "source": [
    "enron_emails['text_tokens'] = [nltk.word_tokenize(text) for text in enron_emails['clean_text']]\n",
    "enron_emails['text_no_stop'] = [[w for w in word_tokens if not w in stop_words] for word_tokens in enron_emails['text_tokens']]"
   ]
  },
  {
   "cell_type": "code",
   "execution_count": 35,
   "metadata": {},
   "outputs": [
    {
     "data": {
      "text/html": [
       "<div>\n",
       "<style scoped>\n",
       "    .dataframe tbody tr th:only-of-type {\n",
       "        vertical-align: middle;\n",
       "    }\n",
       "\n",
       "    .dataframe tbody tr th {\n",
       "        vertical-align: top;\n",
       "    }\n",
       "\n",
       "    .dataframe thead th {\n",
       "        text-align: right;\n",
       "    }\n",
       "</style>\n",
       "<table border=\"1\" class=\"dataframe\">\n",
       "  <thead>\n",
       "    <tr style=\"text-align: right;\">\n",
       "      <th></th>\n",
       "      <th>date</th>\n",
       "      <th>sender</th>\n",
       "      <th>recipient1</th>\n",
       "      <th>subject</th>\n",
       "      <th>text</th>\n",
       "      <th>sender_name</th>\n",
       "      <th>recipient_name</th>\n",
       "      <th>sender_gender</th>\n",
       "      <th>recipient_gender</th>\n",
       "      <th>clean_text</th>\n",
       "      <th>text_tokens</th>\n",
       "      <th>text_no_stop</th>\n",
       "    </tr>\n",
       "  </thead>\n",
       "  <tbody>\n",
       "    <tr>\n",
       "      <th>0</th>\n",
       "      <td>2001-05-14 16:39:00-07:00</td>\n",
       "      <td>phillip.allen@enron.com</td>\n",
       "      <td>tim.belden@enron.com</td>\n",
       "      <td>NaN</td>\n",
       "      <td>['', 'Here is our forecast', '', ' ']</td>\n",
       "      <td>Phillip</td>\n",
       "      <td>Tim</td>\n",
       "      <td>male</td>\n",
       "      <td>male</td>\n",
       "      <td>here is our forecast</td>\n",
       "      <td>[here, is, our, forecast]</td>\n",
       "      <td>[forecast]</td>\n",
       "    </tr>\n",
       "    <tr>\n",
       "      <th>1</th>\n",
       "      <td>2001-05-04 13:51:00-07:00</td>\n",
       "      <td>phillip.allen@enron.com</td>\n",
       "      <td>john.lavorato@enron.com</td>\n",
       "      <td>Re:</td>\n",
       "      <td>['', 'Traveling to have a business meeting tak...</td>\n",
       "      <td>Phillip</td>\n",
       "      <td>John</td>\n",
       "      <td>male</td>\n",
       "      <td>male</td>\n",
       "      <td>traveling to have a business meeting takes the...</td>\n",
       "      <td>[traveling, to, have, a, business, meeting, ta...</td>\n",
       "      <td>[traveling, business, meeting, takes, fun, tri...</td>\n",
       "    </tr>\n",
       "    <tr>\n",
       "      <th>2</th>\n",
       "      <td>2000-10-18 03:00:00-07:00</td>\n",
       "      <td>phillip.allen@enron.com</td>\n",
       "      <td>leah.arsdall@enron.com</td>\n",
       "      <td>Re: test</td>\n",
       "      <td>['', 'test successful.  way to go!!!']</td>\n",
       "      <td>Phillip</td>\n",
       "      <td>Leah</td>\n",
       "      <td>male</td>\n",
       "      <td>female</td>\n",
       "      <td>test successful.  way to go!!!</td>\n",
       "      <td>[test, successful, ., way, to, go, !, !, !]</td>\n",
       "      <td>[test, successful, ., way, go, !, !, !]</td>\n",
       "    </tr>\n",
       "    <tr>\n",
       "      <th>3</th>\n",
       "      <td>2000-10-23 06:13:00-07:00</td>\n",
       "      <td>phillip.allen@enron.com</td>\n",
       "      <td>randall.gay@enron.com</td>\n",
       "      <td>NaN</td>\n",
       "      <td>['', 'Randy,', '', ' Can you send me a schedul...</td>\n",
       "      <td>Phillip</td>\n",
       "      <td>Randall</td>\n",
       "      <td>male</td>\n",
       "      <td>male</td>\n",
       "      <td>randy   can you send me a schedule of the sala...</td>\n",
       "      <td>[randy, can, you, send, me, a, schedule, of, t...</td>\n",
       "      <td>[randy, send, schedule, salary, level, everyon...</td>\n",
       "    </tr>\n",
       "    <tr>\n",
       "      <th>4</th>\n",
       "      <td>2000-08-31 05:07:00-07:00</td>\n",
       "      <td>phillip.allen@enron.com</td>\n",
       "      <td>greg.piper@enron.com</td>\n",
       "      <td>Re: Hello</td>\n",
       "      <td>['', \"Let's shoot for Tuesday at 11:45.  \"]</td>\n",
       "      <td>Phillip</td>\n",
       "      <td>Greg</td>\n",
       "      <td>male</td>\n",
       "      <td>male</td>\n",
       "      <td>lets shoot for tuesday at 1145.</td>\n",
       "      <td>[lets, shoot, for, tuesday, at, 1145, .]</td>\n",
       "      <td>[lets, shoot, tuesday, 1145, .]</td>\n",
       "    </tr>\n",
       "  </tbody>\n",
       "</table>\n",
       "</div>"
      ],
      "text/plain": [
       "                        date                   sender  \\\n",
       "0  2001-05-14 16:39:00-07:00  phillip.allen@enron.com   \n",
       "1  2001-05-04 13:51:00-07:00  phillip.allen@enron.com   \n",
       "2  2000-10-18 03:00:00-07:00  phillip.allen@enron.com   \n",
       "3  2000-10-23 06:13:00-07:00  phillip.allen@enron.com   \n",
       "4  2000-08-31 05:07:00-07:00  phillip.allen@enron.com   \n",
       "\n",
       "                recipient1    subject  \\\n",
       "0     tim.belden@enron.com        NaN   \n",
       "1  john.lavorato@enron.com        Re:   \n",
       "2   leah.arsdall@enron.com   Re: test   \n",
       "3    randall.gay@enron.com        NaN   \n",
       "4     greg.piper@enron.com  Re: Hello   \n",
       "\n",
       "                                                text sender_name  \\\n",
       "0              ['', 'Here is our forecast', '', ' ']     Phillip   \n",
       "1  ['', 'Traveling to have a business meeting tak...     Phillip   \n",
       "2             ['', 'test successful.  way to go!!!']     Phillip   \n",
       "3  ['', 'Randy,', '', ' Can you send me a schedul...     Phillip   \n",
       "4        ['', \"Let's shoot for Tuesday at 11:45.  \"]     Phillip   \n",
       "\n",
       "  recipient_name sender_gender recipient_gender  \\\n",
       "0            Tim          male             male   \n",
       "1           John          male             male   \n",
       "2           Leah          male           female   \n",
       "3        Randall          male             male   \n",
       "4           Greg          male             male   \n",
       "\n",
       "                                          clean_text  \\\n",
       "0                               here is our forecast   \n",
       "1  traveling to have a business meeting takes the...   \n",
       "2                     test successful.  way to go!!!   \n",
       "3  randy   can you send me a schedule of the sala...   \n",
       "4                    lets shoot for tuesday at 1145.   \n",
       "\n",
       "                                         text_tokens  \\\n",
       "0                          [here, is, our, forecast]   \n",
       "1  [traveling, to, have, a, business, meeting, ta...   \n",
       "2        [test, successful, ., way, to, go, !, !, !]   \n",
       "3  [randy, can, you, send, me, a, schedule, of, t...   \n",
       "4           [lets, shoot, for, tuesday, at, 1145, .]   \n",
       "\n",
       "                                        text_no_stop  \n",
       "0                                         [forecast]  \n",
       "1  [traveling, business, meeting, takes, fun, tri...  \n",
       "2            [test, successful, ., way, go, !, !, !]  \n",
       "3  [randy, send, schedule, salary, level, everyon...  \n",
       "4                    [lets, shoot, tuesday, 1145, .]  "
      ]
     },
     "execution_count": 35,
     "metadata": {},
     "output_type": "execute_result"
    }
   ],
   "source": [
    "enron_emails.head()"
   ]
  },
  {
   "cell_type": "code",
   "execution_count": 44,
   "metadata": {},
   "outputs": [],
   "source": [
    "enron_female_sender = enron_emails[enron_emails['sender_gender'] =='female'].reset_index()\n",
    "enron_male_sender = enron_emails[enron_emails['sender_gender'] =='male'].reset_index()\n",
    "enron_andy_sender = enron_emails[enron_emails['sender_gender'] =='andy'].reset_index()"
   ]
  },
  {
   "cell_type": "code",
   "execution_count": null,
   "metadata": {},
   "outputs": [],
   "source": []
  }
 ],
 "metadata": {
  "kernelspec": {
   "display_name": "Python 3",
   "language": "python",
   "name": "python3"
  },
  "language_info": {
   "codemirror_mode": {
    "name": "ipython",
    "version": 3
   },
   "file_extension": ".py",
   "mimetype": "text/x-python",
   "name": "python",
   "nbconvert_exporter": "python",
   "pygments_lexer": "ipython3",
   "version": "3.8.3"
  }
 },
 "nbformat": 4,
 "nbformat_minor": 4
}
