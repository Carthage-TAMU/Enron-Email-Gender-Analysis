{
  "nbformat": 4,
  "nbformat_minor": 0,
  "metadata": {
    "kernelspec": {
      "display_name": "Python 3",
      "language": "python",
      "name": "python3"
    },
    "language_info": {
      "codemirror_mode": {
        "name": "ipython",
        "version": 3
      },
      "file_extension": ".py",
      "mimetype": "text/x-python",
      "name": "python",
      "nbconvert_exporter": "python",
      "pygments_lexer": "ipython3",
      "version": "3.8.3"
    },
    "colab": {
      "name": "clean_enron_data.ipynb",
      "provenance": [],
      "collapsed_sections": []
    }
  },
  "cells": [
    {
      "cell_type": "code",
      "metadata": {
        "id": "BfbjSSLQwJUh",
        "outputId": "a84142b4-46f5-427e-d3dc-44929e678d5c",
        "colab": {
          "base_uri": "https://localhost:8080/",
          "height": 34
        }
      },
      "source": [
        "# just checking if the dict folder is actually populated\n",
        "import os\n",
        "dir_name = '/usr/share/dict'\n",
        "if os.path.exists(dir_name) and os.path.isdir(dir_name):\n",
        "    if not os.listdir(dir_name):\n",
        "        print(\"Directory is empty\")\n",
        "    else:    \n",
        "        print(\"Directory is not empty\")\n",
        "else:\n",
        "    print(\"Given Directory don't exists\")"
      ],
      "execution_count": null,
      "outputs": [
        {
          "output_type": "stream",
          "text": [
            "Directory is empty\n"
          ],
          "name": "stdout"
        }
      ]
    },
    {
      "cell_type": "code",
      "metadata": {
        "id": "UuYdC36nYbXo",
        "outputId": "6c77a8b5-38e1-497a-a8ad-ea1dd45aae84",
        "colab": {
          "base_uri": "https://localhost:8080/",
          "height": 69
        }
      },
      "source": [
        "import pandas as pd\n",
        "#!pip install gender-guesser\n",
        "import gender_guesser.detector as gender\n",
        "#!pip install nltk\n",
        "import nltk\n",
        "nltk.download('punkt')\n",
        "  "
      ],
      "execution_count": null,
      "outputs": [
        {
          "output_type": "stream",
          "text": [
            "[nltk_data] Downloading package punkt to /root/nltk_data...\n",
            "[nltk_data]   Package punkt is already up-to-date!\n"
          ],
          "name": "stdout"
        },
        {
          "output_type": "execute_result",
          "data": {
            "text/plain": [
              "True"
            ]
          },
          "metadata": {
            "tags": []
          },
          "execution_count": 5
        }
      ]
    },
    {
      "cell_type": "code",
      "metadata": {
        "id": "yQMeyNOPYbXv"
      },
      "source": [
        "#email_df_1 = pd.read_csv('emaildata1.csv')\n",
        "#email_df_2 = pd.read_csv('emaildata2.csv')\n",
        "#email_df_3 = pd.read_csv('emaildata3.csv')\n",
        "#email_df_4 = pd.read_csv('emaildata4.csv')\n",
        "#email_df_5 = pd.read_csv('emaildata5.csv')\n",
        "#email_df_6 = pd.read_csv('emaildata6.csv')"
      ],
      "execution_count": null,
      "outputs": []
    },
    {
      "cell_type": "code",
      "metadata": {
        "id": "OVVOkCz1YbXz"
      },
      "source": [
        "#emails_df = email_df_1.append(email_df_2).append(email_df_3).append(email_df_4).append(email_df_5).append(email_df_6)\n",
        "#emails_df.drop(columns = 'Unnamed: 0', inplace = True)\n",
        "#emails_df.reset_index(inplace = True)"
      ],
      "execution_count": null,
      "outputs": []
    },
    {
      "cell_type": "code",
      "metadata": {
        "id": "MW06O0kzYbX4",
        "outputId": "55241cce-86fd-421a-aa73-26f6e5b7e713"
      },
      "source": [
        "#emails_df.head()"
      ],
      "execution_count": null,
      "outputs": [
        {
          "output_type": "execute_result",
          "data": {
            "text/html": [
              "<div>\n",
              "<style scoped>\n",
              "    .dataframe tbody tr th:only-of-type {\n",
              "        vertical-align: middle;\n",
              "    }\n",
              "\n",
              "    .dataframe tbody tr th {\n",
              "        vertical-align: top;\n",
              "    }\n",
              "\n",
              "    .dataframe thead th {\n",
              "        text-align: right;\n",
              "    }\n",
              "</style>\n",
              "<table border=\"1\" class=\"dataframe\">\n",
              "  <thead>\n",
              "    <tr style=\"text-align: right;\">\n",
              "      <th></th>\n",
              "      <th>index</th>\n",
              "      <th>date</th>\n",
              "      <th>sender</th>\n",
              "      <th>recipient1</th>\n",
              "      <th>subject</th>\n",
              "      <th>text</th>\n",
              "    </tr>\n",
              "  </thead>\n",
              "  <tbody>\n",
              "    <tr>\n",
              "      <th>0</th>\n",
              "      <td>0</td>\n",
              "      <td>2001-05-14 16:39:00-07:00</td>\n",
              "      <td>phillip.allen@enron.com</td>\n",
              "      <td>tim.belden@enron.com</td>\n",
              "      <td>NaN</td>\n",
              "      <td>['', 'Here is our forecast', '', ' ']</td>\n",
              "    </tr>\n",
              "    <tr>\n",
              "      <th>1</th>\n",
              "      <td>1</td>\n",
              "      <td>2001-05-04 13:51:00-07:00</td>\n",
              "      <td>phillip.allen@enron.com</td>\n",
              "      <td>john.lavorato@enron.com</td>\n",
              "      <td>Re:</td>\n",
              "      <td>['', 'Traveling to have a business meeting tak...</td>\n",
              "    </tr>\n",
              "    <tr>\n",
              "      <th>2</th>\n",
              "      <td>2</td>\n",
              "      <td>2000-10-18 03:00:00-07:00</td>\n",
              "      <td>phillip.allen@enron.com</td>\n",
              "      <td>leah.arsdall@enron.com</td>\n",
              "      <td>Re: test</td>\n",
              "      <td>['', 'test successful.  way to go!!!']</td>\n",
              "    </tr>\n",
              "    <tr>\n",
              "      <th>3</th>\n",
              "      <td>3</td>\n",
              "      <td>2000-10-23 06:13:00-07:00</td>\n",
              "      <td>phillip.allen@enron.com</td>\n",
              "      <td>randall.gay@enron.com</td>\n",
              "      <td>NaN</td>\n",
              "      <td>['', 'Randy,', '', ' Can you send me a schedul...</td>\n",
              "    </tr>\n",
              "    <tr>\n",
              "      <th>4</th>\n",
              "      <td>4</td>\n",
              "      <td>2000-08-31 05:07:00-07:00</td>\n",
              "      <td>phillip.allen@enron.com</td>\n",
              "      <td>greg.piper@enron.com</td>\n",
              "      <td>Re: Hello</td>\n",
              "      <td>['', \"Let's shoot for Tuesday at 11:45.  \"]</td>\n",
              "    </tr>\n",
              "  </tbody>\n",
              "</table>\n",
              "</div>"
            ],
            "text/plain": [
              "   index                       date                   sender  \\\n",
              "0      0  2001-05-14 16:39:00-07:00  phillip.allen@enron.com   \n",
              "1      1  2001-05-04 13:51:00-07:00  phillip.allen@enron.com   \n",
              "2      2  2000-10-18 03:00:00-07:00  phillip.allen@enron.com   \n",
              "3      3  2000-10-23 06:13:00-07:00  phillip.allen@enron.com   \n",
              "4      4  2000-08-31 05:07:00-07:00  phillip.allen@enron.com   \n",
              "\n",
              "                recipient1    subject  \\\n",
              "0     tim.belden@enron.com        NaN   \n",
              "1  john.lavorato@enron.com        Re:   \n",
              "2   leah.arsdall@enron.com   Re: test   \n",
              "3    randall.gay@enron.com        NaN   \n",
              "4     greg.piper@enron.com  Re: Hello   \n",
              "\n",
              "                                                text  \n",
              "0              ['', 'Here is our forecast', '', ' ']  \n",
              "1  ['', 'Traveling to have a business meeting tak...  \n",
              "2             ['', 'test successful.  way to go!!!']  \n",
              "3  ['', 'Randy,', '', ' Can you send me a schedul...  \n",
              "4        ['', \"Let's shoot for Tuesday at 11:45.  \"]  "
            ]
          },
          "metadata": {
            "tags": []
          },
          "execution_count": 25
        }
      ]
    },
    {
      "cell_type": "markdown",
      "metadata": {
        "id": "ihYprFKpYbX_"
      },
      "source": [
        "Drop any emails that were not sent to people with @enron.com - we only want to look at emails within the company"
      ]
    },
    {
      "cell_type": "code",
      "metadata": {
        "id": "eI0vjXsHYbYA"
      },
      "source": [
        "#sent_within_company = [(emails_df.loc[row, 'recipient1'][-9:] == 'enron.com') & ((emails_df.loc[row, 'sender'][-9:] == 'enron.com')) for row in range(len(emails_df))]"
      ],
      "execution_count": null,
      "outputs": []
    },
    {
      "cell_type": "markdown",
      "metadata": {
        "id": "RDOKbd2yYbYE"
      },
      "source": [
        "it looks like only about 68% of the emails were sent within the company - we are only going to use those 68% for now"
      ]
    },
    {
      "cell_type": "code",
      "metadata": {
        "id": "CWPbzm60YbYF",
        "outputId": "802b6750-ee6c-4276-b38c-963cd41b7b03"
      },
      "source": [
        "#sum(sent_within_company) / len(emails_df)"
      ],
      "execution_count": null,
      "outputs": [
        {
          "output_type": "execute_result",
          "data": {
            "text/plain": [
              "0.8042481180782722"
            ]
          },
          "metadata": {
            "tags": []
          },
          "execution_count": 40
        }
      ]
    },
    {
      "cell_type": "code",
      "metadata": {
        "id": "Qh7lUjVkYbYI"
      },
      "source": [
        "#emails_within_company_df = emails_df[sent_within_company]"
      ],
      "execution_count": null,
      "outputs": []
    },
    {
      "cell_type": "code",
      "metadata": {
        "id": "RqGESg2RYbYO"
      },
      "source": [
        "#emails_within_company_df.to_csv('emails_within_company.csv')"
      ],
      "execution_count": null,
      "outputs": []
    },
    {
      "cell_type": "code",
      "metadata": {
        "id": "Sh5DydDAa9Q7",
        "outputId": "d54bb744-f20a-4e50-dc96-79f54fade06e",
        "colab": {
          "base_uri": "https://localhost:8080/",
          "height": 34
        }
      },
      "source": [
        "# Mount Joey's Google Drive for access to the .csv file[s]\n",
        "from google.colab import drive\n",
        "drive.mount('/content/drive')"
      ],
      "execution_count": null,
      "outputs": [
        {
          "output_type": "stream",
          "text": [
            "Drive already mounted at /content/drive; to attempt to forcibly remount, call drive.mount(\"/content/drive\", force_remount=True).\n"
          ],
          "name": "stdout"
        }
      ]
    },
    {
      "cell_type": "code",
      "metadata": {
        "id": "yYjI_QRha68u"
      },
      "source": [
        "\n",
        "# Open the .csv with just the intra-company emails\n",
        "emails_within_company = pd.read_csv('/content/drive/Shared drives/TAMU-Datathon-2020/emails_within_company.csv')"
      ],
      "execution_count": null,
      "outputs": []
    },
    {
      "cell_type": "code",
      "metadata": {
        "id": "bB4fmLNbxbMo"
      },
      "source": [
        "emails_within_company.loc[:, 'sender_name'] = [email.split('.')[0] for email in emails_within_company.loc[:, 'sender']]\n",
        "emails_within_company.loc[:, 'recipient_name'] = [email.split('.')[0] for email in emails_within_company.loc[:, 'recipient1']]"
      ],
      "execution_count": null,
      "outputs": []
    },
    {
      "cell_type": "markdown",
      "metadata": {
        "id": "c-mC21hplQx4"
      },
      "source": [
        "Drop any names that have an at symbol in them - we assume that these are with IT desks, help desks, or other services such as this, and we won't be able to pull a gender from that anyway"
      ]
    },
    {
      "cell_type": "code",
      "metadata": {
        "id": "Y6XDYv7QiWpm",
        "outputId": "65dc7cb3-9a80-4e11-a746-568078e793de",
        "colab": {
          "base_uri": "https://localhost:8080/",
          "height": 202
        }
      },
      "source": [
        "intra_employee_emails = emails_within_company[[('@' not in email) for email in emails_within_company['sender_name']]]\n",
        "intra_employee_emails = intra_employee_emails[[('@' not in email) for email in intra_employee_emails['recipient_name']]]\n",
        "\n",
        "intra_employee_emails.head()"
      ],
      "execution_count": null,
      "outputs": [
        {
          "output_type": "execute_result",
          "data": {
            "text/html": [
              "<div>\n",
              "<style scoped>\n",
              "    .dataframe tbody tr th:only-of-type {\n",
              "        vertical-align: middle;\n",
              "    }\n",
              "\n",
              "    .dataframe tbody tr th {\n",
              "        vertical-align: top;\n",
              "    }\n",
              "\n",
              "    .dataframe thead th {\n",
              "        text-align: right;\n",
              "    }\n",
              "</style>\n",
              "<table border=\"1\" class=\"dataframe\">\n",
              "  <thead>\n",
              "    <tr style=\"text-align: right;\">\n",
              "      <th></th>\n",
              "      <th>Unnamed: 0</th>\n",
              "      <th>date</th>\n",
              "      <th>sender</th>\n",
              "      <th>recipient1</th>\n",
              "      <th>subject</th>\n",
              "      <th>text</th>\n",
              "      <th>sender_name</th>\n",
              "      <th>recipient_name</th>\n",
              "    </tr>\n",
              "  </thead>\n",
              "  <tbody>\n",
              "    <tr>\n",
              "      <th>0</th>\n",
              "      <td>0</td>\n",
              "      <td>2001-05-14 16:39:00-07:00</td>\n",
              "      <td>phillip.allen@enron.com</td>\n",
              "      <td>tim.belden@enron.com</td>\n",
              "      <td>NaN</td>\n",
              "      <td>['', 'Here is our forecast', '', ' ']</td>\n",
              "      <td>phillip</td>\n",
              "      <td>tim</td>\n",
              "    </tr>\n",
              "    <tr>\n",
              "      <th>1</th>\n",
              "      <td>1</td>\n",
              "      <td>2001-05-04 13:51:00-07:00</td>\n",
              "      <td>phillip.allen@enron.com</td>\n",
              "      <td>john.lavorato@enron.com</td>\n",
              "      <td>Re:</td>\n",
              "      <td>['', 'Traveling to have a business meeting tak...</td>\n",
              "      <td>phillip</td>\n",
              "      <td>john</td>\n",
              "    </tr>\n",
              "    <tr>\n",
              "      <th>2</th>\n",
              "      <td>2</td>\n",
              "      <td>2000-10-18 03:00:00-07:00</td>\n",
              "      <td>phillip.allen@enron.com</td>\n",
              "      <td>leah.arsdall@enron.com</td>\n",
              "      <td>Re: test</td>\n",
              "      <td>['', 'test successful.  way to go!!!']</td>\n",
              "      <td>phillip</td>\n",
              "      <td>leah</td>\n",
              "    </tr>\n",
              "    <tr>\n",
              "      <th>3</th>\n",
              "      <td>3</td>\n",
              "      <td>2000-10-23 06:13:00-07:00</td>\n",
              "      <td>phillip.allen@enron.com</td>\n",
              "      <td>randall.gay@enron.com</td>\n",
              "      <td>NaN</td>\n",
              "      <td>['', 'Randy,', '', ' Can you send me a schedul...</td>\n",
              "      <td>phillip</td>\n",
              "      <td>randall</td>\n",
              "    </tr>\n",
              "    <tr>\n",
              "      <th>4</th>\n",
              "      <td>4</td>\n",
              "      <td>2000-08-31 05:07:00-07:00</td>\n",
              "      <td>phillip.allen@enron.com</td>\n",
              "      <td>greg.piper@enron.com</td>\n",
              "      <td>Re: Hello</td>\n",
              "      <td>['', \"Let's shoot for Tuesday at 11:45.  \"]</td>\n",
              "      <td>phillip</td>\n",
              "      <td>greg</td>\n",
              "    </tr>\n",
              "  </tbody>\n",
              "</table>\n",
              "</div>"
            ],
            "text/plain": [
              "   Unnamed: 0                       date  ... sender_name recipient_name\n",
              "0           0  2001-05-14 16:39:00-07:00  ...     phillip            tim\n",
              "1           1  2001-05-04 13:51:00-07:00  ...     phillip           john\n",
              "2           2  2000-10-18 03:00:00-07:00  ...     phillip           leah\n",
              "3           3  2000-10-23 06:13:00-07:00  ...     phillip        randall\n",
              "4           4  2000-08-31 05:07:00-07:00  ...     phillip           greg\n",
              "\n",
              "[5 rows x 8 columns]"
            ]
          },
          "metadata": {
            "tags": []
          },
          "execution_count": 9
        }
      ]
    },
    {
      "cell_type": "markdown",
      "metadata": {
        "id": "U2wdyU8sZD9a"
      },
      "source": [
        "## Parse the sender and recipient emails to pull off just the sender name and recipient name"
      ]
    },
    {
      "cell_type": "markdown",
      "metadata": {
        "id": "beu8My2jlDeo"
      },
      "source": [
        "First, We will drop any of the rows that have a sender or recipient name of a single letter - our gender guesser won't be able to figure out the gender accurately for these"
      ]
    },
    {
      "cell_type": "code",
      "metadata": {
        "id": "txtGAof-kJ6i"
      },
      "source": [
        "intra_employee_emails = intra_employee_emails[[(len(name) >= 2) for name in intra_employee_emails['sender_name']]]\n",
        "intra_employee_emails = intra_employee_emails[[(len(name) >= 2) for name in intra_employee_emails['recipient_name']]]"
      ],
      "execution_count": null,
      "outputs": []
    },
    {
      "cell_type": "markdown",
      "metadata": {
        "id": "wWbkw51MljK1"
      },
      "source": [
        "Next, we will make the first letter of each name uppercase and the rest lowercase-  that is what the gender guesser function requires"
      ]
    },
    {
      "cell_type": "code",
      "metadata": {
        "id": "MwVOi3mslo-L"
      },
      "source": [
        "intra_employee_emails['sender_name'] = [(name[0].upper() + name[1:].lower()) for name in intra_employee_emails['sender_name']]\n",
        "intra_employee_emails['recipient_name'] = [(name[0].upper() + name[1:].lower()) for name in intra_employee_emails['recipient_name']]"
      ],
      "execution_count": null,
      "outputs": []
    },
    {
      "cell_type": "code",
      "metadata": {
        "id": "06efn6Tkl4-7",
        "outputId": "84701145-6072-4643-9e2f-c385ee664703",
        "colab": {
          "base_uri": "https://localhost:8080/",
          "height": 202
        }
      },
      "source": [
        "intra_employee_emails.head()"
      ],
      "execution_count": null,
      "outputs": [
        {
          "output_type": "execute_result",
          "data": {
            "text/html": [
              "<div>\n",
              "<style scoped>\n",
              "    .dataframe tbody tr th:only-of-type {\n",
              "        vertical-align: middle;\n",
              "    }\n",
              "\n",
              "    .dataframe tbody tr th {\n",
              "        vertical-align: top;\n",
              "    }\n",
              "\n",
              "    .dataframe thead th {\n",
              "        text-align: right;\n",
              "    }\n",
              "</style>\n",
              "<table border=\"1\" class=\"dataframe\">\n",
              "  <thead>\n",
              "    <tr style=\"text-align: right;\">\n",
              "      <th></th>\n",
              "      <th>Unnamed: 0</th>\n",
              "      <th>date</th>\n",
              "      <th>sender</th>\n",
              "      <th>recipient1</th>\n",
              "      <th>subject</th>\n",
              "      <th>text</th>\n",
              "      <th>sender_name</th>\n",
              "      <th>recipient_name</th>\n",
              "    </tr>\n",
              "  </thead>\n",
              "  <tbody>\n",
              "    <tr>\n",
              "      <th>0</th>\n",
              "      <td>0</td>\n",
              "      <td>2001-05-14 16:39:00-07:00</td>\n",
              "      <td>phillip.allen@enron.com</td>\n",
              "      <td>tim.belden@enron.com</td>\n",
              "      <td>NaN</td>\n",
              "      <td>['', 'Here is our forecast', '', ' ']</td>\n",
              "      <td>Phillip</td>\n",
              "      <td>Tim</td>\n",
              "    </tr>\n",
              "    <tr>\n",
              "      <th>1</th>\n",
              "      <td>1</td>\n",
              "      <td>2001-05-04 13:51:00-07:00</td>\n",
              "      <td>phillip.allen@enron.com</td>\n",
              "      <td>john.lavorato@enron.com</td>\n",
              "      <td>Re:</td>\n",
              "      <td>['', 'Traveling to have a business meeting tak...</td>\n",
              "      <td>Phillip</td>\n",
              "      <td>John</td>\n",
              "    </tr>\n",
              "    <tr>\n",
              "      <th>2</th>\n",
              "      <td>2</td>\n",
              "      <td>2000-10-18 03:00:00-07:00</td>\n",
              "      <td>phillip.allen@enron.com</td>\n",
              "      <td>leah.arsdall@enron.com</td>\n",
              "      <td>Re: test</td>\n",
              "      <td>['', 'test successful.  way to go!!!']</td>\n",
              "      <td>Phillip</td>\n",
              "      <td>Leah</td>\n",
              "    </tr>\n",
              "    <tr>\n",
              "      <th>3</th>\n",
              "      <td>3</td>\n",
              "      <td>2000-10-23 06:13:00-07:00</td>\n",
              "      <td>phillip.allen@enron.com</td>\n",
              "      <td>randall.gay@enron.com</td>\n",
              "      <td>NaN</td>\n",
              "      <td>['', 'Randy,', '', ' Can you send me a schedul...</td>\n",
              "      <td>Phillip</td>\n",
              "      <td>Randall</td>\n",
              "    </tr>\n",
              "    <tr>\n",
              "      <th>4</th>\n",
              "      <td>4</td>\n",
              "      <td>2000-08-31 05:07:00-07:00</td>\n",
              "      <td>phillip.allen@enron.com</td>\n",
              "      <td>greg.piper@enron.com</td>\n",
              "      <td>Re: Hello</td>\n",
              "      <td>['', \"Let's shoot for Tuesday at 11:45.  \"]</td>\n",
              "      <td>Phillip</td>\n",
              "      <td>Greg</td>\n",
              "    </tr>\n",
              "  </tbody>\n",
              "</table>\n",
              "</div>"
            ],
            "text/plain": [
              "   Unnamed: 0                       date  ... sender_name recipient_name\n",
              "0           0  2001-05-14 16:39:00-07:00  ...     Phillip            Tim\n",
              "1           1  2001-05-04 13:51:00-07:00  ...     Phillip           John\n",
              "2           2  2000-10-18 03:00:00-07:00  ...     Phillip           Leah\n",
              "3           3  2000-10-23 06:13:00-07:00  ...     Phillip        Randall\n",
              "4           4  2000-08-31 05:07:00-07:00  ...     Phillip           Greg\n",
              "\n",
              "[5 rows x 8 columns]"
            ]
          },
          "metadata": {
            "tags": []
          },
          "execution_count": 12
        }
      ]
    },
    {
      "cell_type": "markdown",
      "metadata": {
        "id": "5iW_OAK5bUyG"
      },
      "source": [
        ""
      ]
    },
    {
      "cell_type": "markdown",
      "metadata": {
        "id": "aaHotCrBZgLk"
      },
      "source": [
        "Gender Guesser Documentation \n",
        "\n",
        "\n",
        "https://pypi.org/project/gender-guesser/"
      ]
    },
    {
      "cell_type": "code",
      "metadata": {
        "id": "WNnfGDBPZXRJ"
      },
      "source": [
        "d = gender.Detector()\n",
        "\n",
        "intra_employee_emails.loc[:, 'sender_gender'] = [d.get_gender(name, 'usa') for name in intra_employee_emails['sender_name']]\n",
        "intra_employee_emails.loc[:, 'recipient_gender'] = [d.get_gender(name, 'usa') for name in intra_employee_emails['recipient_name']]\n",
        "\n",
        "#drop the ones that have an unknown gender - they are names like \"Public Relations\", \"Energy\", etc\n",
        "intra_employee_emails = intra_employee_emails[(intra_employee_emails['sender_gender'] != 'unknown') & (intra_employee_emails['recipient_gender'] != 'unknown')]"
      ],
      "execution_count": null,
      "outputs": []
    },
    {
      "cell_type": "code",
      "metadata": {
        "id": "2pTNPKoTmhdx",
        "outputId": "022b039e-fc05-40b1-a7b0-9b316e0c718a",
        "colab": {
          "base_uri": "https://localhost:8080/",
          "height": 202
        }
      },
      "source": [
        "intra_employee_emails.head()"
      ],
      "execution_count": null,
      "outputs": [
        {
          "output_type": "execute_result",
          "data": {
            "text/html": [
              "<div>\n",
              "<style scoped>\n",
              "    .dataframe tbody tr th:only-of-type {\n",
              "        vertical-align: middle;\n",
              "    }\n",
              "\n",
              "    .dataframe tbody tr th {\n",
              "        vertical-align: top;\n",
              "    }\n",
              "\n",
              "    .dataframe thead th {\n",
              "        text-align: right;\n",
              "    }\n",
              "</style>\n",
              "<table border=\"1\" class=\"dataframe\">\n",
              "  <thead>\n",
              "    <tr style=\"text-align: right;\">\n",
              "      <th></th>\n",
              "      <th>Unnamed: 0</th>\n",
              "      <th>date</th>\n",
              "      <th>sender</th>\n",
              "      <th>recipient1</th>\n",
              "      <th>subject</th>\n",
              "      <th>text</th>\n",
              "      <th>sender_name</th>\n",
              "      <th>recipient_name</th>\n",
              "      <th>sender_gender</th>\n",
              "      <th>recipient_gender</th>\n",
              "    </tr>\n",
              "  </thead>\n",
              "  <tbody>\n",
              "    <tr>\n",
              "      <th>0</th>\n",
              "      <td>0</td>\n",
              "      <td>2001-05-14 16:39:00-07:00</td>\n",
              "      <td>phillip.allen@enron.com</td>\n",
              "      <td>tim.belden@enron.com</td>\n",
              "      <td>NaN</td>\n",
              "      <td>['', 'Here is our forecast', '', ' ']</td>\n",
              "      <td>Phillip</td>\n",
              "      <td>Tim</td>\n",
              "      <td>male</td>\n",
              "      <td>male</td>\n",
              "    </tr>\n",
              "    <tr>\n",
              "      <th>1</th>\n",
              "      <td>1</td>\n",
              "      <td>2001-05-04 13:51:00-07:00</td>\n",
              "      <td>phillip.allen@enron.com</td>\n",
              "      <td>john.lavorato@enron.com</td>\n",
              "      <td>Re:</td>\n",
              "      <td>['', 'Traveling to have a business meeting tak...</td>\n",
              "      <td>Phillip</td>\n",
              "      <td>John</td>\n",
              "      <td>male</td>\n",
              "      <td>male</td>\n",
              "    </tr>\n",
              "    <tr>\n",
              "      <th>2</th>\n",
              "      <td>2</td>\n",
              "      <td>2000-10-18 03:00:00-07:00</td>\n",
              "      <td>phillip.allen@enron.com</td>\n",
              "      <td>leah.arsdall@enron.com</td>\n",
              "      <td>Re: test</td>\n",
              "      <td>['', 'test successful.  way to go!!!']</td>\n",
              "      <td>Phillip</td>\n",
              "      <td>Leah</td>\n",
              "      <td>male</td>\n",
              "      <td>female</td>\n",
              "    </tr>\n",
              "    <tr>\n",
              "      <th>3</th>\n",
              "      <td>3</td>\n",
              "      <td>2000-10-23 06:13:00-07:00</td>\n",
              "      <td>phillip.allen@enron.com</td>\n",
              "      <td>randall.gay@enron.com</td>\n",
              "      <td>NaN</td>\n",
              "      <td>['', 'Randy,', '', ' Can you send me a schedul...</td>\n",
              "      <td>Phillip</td>\n",
              "      <td>Randall</td>\n",
              "      <td>male</td>\n",
              "      <td>male</td>\n",
              "    </tr>\n",
              "    <tr>\n",
              "      <th>4</th>\n",
              "      <td>4</td>\n",
              "      <td>2000-08-31 05:07:00-07:00</td>\n",
              "      <td>phillip.allen@enron.com</td>\n",
              "      <td>greg.piper@enron.com</td>\n",
              "      <td>Re: Hello</td>\n",
              "      <td>['', \"Let's shoot for Tuesday at 11:45.  \"]</td>\n",
              "      <td>Phillip</td>\n",
              "      <td>Greg</td>\n",
              "      <td>male</td>\n",
              "      <td>male</td>\n",
              "    </tr>\n",
              "  </tbody>\n",
              "</table>\n",
              "</div>"
            ],
            "text/plain": [
              "   Unnamed: 0                       date  ... sender_gender recipient_gender\n",
              "0           0  2001-05-14 16:39:00-07:00  ...          male             male\n",
              "1           1  2001-05-04 13:51:00-07:00  ...          male             male\n",
              "2           2  2000-10-18 03:00:00-07:00  ...          male           female\n",
              "3           3  2000-10-23 06:13:00-07:00  ...          male             male\n",
              "4           4  2000-08-31 05:07:00-07:00  ...          male             male\n",
              "\n",
              "[5 rows x 10 columns]"
            ]
          },
          "metadata": {
            "tags": []
          },
          "execution_count": 25
        }
      ]
    },
    {
      "cell_type": "code",
      "metadata": {
        "id": "omtczR-85a1s"
      },
      "source": [
        "accepted_chars = ['!', ' ', '.', '?']\n",
        "#remove any characters besides \n",
        "def remove_unwanted_chars(text):\n",
        "  return (''.join(ch for ch in text if (ch.isalnum() or ch in accepted_chars))).strip(' ')\n",
        "\n",
        "\n",
        "intra_employee_emails['clean_text'] = intra_employee_emails['text'].apply(remove_unwanted_chars)"
      ],
      "execution_count": 76,
      "outputs": []
    },
    {
      "cell_type": "code",
      "metadata": {
        "id": "ka8ayfX0006B"
      },
      "source": [
        "intra_employee_emails['text_tokens'] = intra_employee_emails['clean_text'].apply(nltk.word_tokenize)"
      ],
      "execution_count": 77,
      "outputs": []
    },
    {
      "cell_type": "code",
      "metadata": {
        "id": "jSNXmivN3RCC",
        "outputId": "aa61e063-2517-4b3c-bd51-b466a1cf62a0",
        "colab": {
          "base_uri": "https://localhost:8080/",
          "height": 310
        }
      },
      "source": [
        "intra_employee_emails.to_csv('/content/drive/Shared drives/TAMU-Datathon-2020/clean_enron_emails.csv')"
      ],
      "execution_count": 80,
      "outputs": [
        {
          "output_type": "error",
          "ename": "KeyboardInterrupt",
          "evalue": "ignored",
          "traceback": [
            "\u001b[0;31m---------------------------------------------------------------------------\u001b[0m",
            "\u001b[0;31mKeyboardInterrupt\u001b[0m                         Traceback (most recent call last)",
            "\u001b[0;32m<ipython-input-80-438f1197637f>\u001b[0m in \u001b[0;36m<module>\u001b[0;34m()\u001b[0m\n\u001b[0;32m----> 1\u001b[0;31m \u001b[0mintra_employee_emails\u001b[0m\u001b[0;34m.\u001b[0m\u001b[0mto_csv\u001b[0m\u001b[0;34m(\u001b[0m\u001b[0;34m'/content/drive/Shared drives/TAMU-Datathon-2020/clean_enron_emails.csv'\u001b[0m\u001b[0;34m)\u001b[0m\u001b[0;34m\u001b[0m\u001b[0;34m\u001b[0m\u001b[0m\n\u001b[0m",
            "\u001b[0;32m/usr/local/lib/python3.6/dist-packages/pandas/core/generic.py\u001b[0m in \u001b[0;36mto_csv\u001b[0;34m(self, path_or_buf, sep, na_rep, float_format, columns, header, index, index_label, mode, encoding, compression, quoting, quotechar, line_terminator, chunksize, date_format, doublequote, escapechar, decimal, errors)\u001b[0m\n\u001b[1;32m   3165\u001b[0m             \u001b[0mdecimal\u001b[0m\u001b[0;34m=\u001b[0m\u001b[0mdecimal\u001b[0m\u001b[0;34m,\u001b[0m\u001b[0;34m\u001b[0m\u001b[0;34m\u001b[0m\u001b[0m\n\u001b[1;32m   3166\u001b[0m         )\n\u001b[0;32m-> 3167\u001b[0;31m         \u001b[0mformatter\u001b[0m\u001b[0;34m.\u001b[0m\u001b[0msave\u001b[0m\u001b[0;34m(\u001b[0m\u001b[0;34m)\u001b[0m\u001b[0;34m\u001b[0m\u001b[0;34m\u001b[0m\u001b[0m\n\u001b[0m\u001b[1;32m   3168\u001b[0m \u001b[0;34m\u001b[0m\u001b[0m\n\u001b[1;32m   3169\u001b[0m         \u001b[0;32mif\u001b[0m \u001b[0mpath_or_buf\u001b[0m \u001b[0;32mis\u001b[0m \u001b[0;32mNone\u001b[0m\u001b[0;34m:\u001b[0m\u001b[0;34m\u001b[0m\u001b[0;34m\u001b[0m\u001b[0m\n",
            "\u001b[0;32m/usr/local/lib/python3.6/dist-packages/pandas/io/formats/csvs.py\u001b[0m in \u001b[0;36msave\u001b[0;34m(self)\u001b[0m\n\u001b[1;32m    204\u001b[0m             )\n\u001b[1;32m    205\u001b[0m \u001b[0;34m\u001b[0m\u001b[0m\n\u001b[0;32m--> 206\u001b[0;31m             \u001b[0mself\u001b[0m\u001b[0;34m.\u001b[0m\u001b[0m_save\u001b[0m\u001b[0;34m(\u001b[0m\u001b[0;34m)\u001b[0m\u001b[0;34m\u001b[0m\u001b[0;34m\u001b[0m\u001b[0m\n\u001b[0m\u001b[1;32m    207\u001b[0m \u001b[0;34m\u001b[0m\u001b[0m\n\u001b[1;32m    208\u001b[0m         \u001b[0;32mfinally\u001b[0m\u001b[0;34m:\u001b[0m\u001b[0;34m\u001b[0m\u001b[0;34m\u001b[0m\u001b[0m\n",
            "\u001b[0;32m/usr/local/lib/python3.6/dist-packages/pandas/io/formats/csvs.py\u001b[0m in \u001b[0;36m_save\u001b[0;34m(self)\u001b[0m\n\u001b[1;32m    326\u001b[0m                 \u001b[0;32mbreak\u001b[0m\u001b[0;34m\u001b[0m\u001b[0;34m\u001b[0m\u001b[0m\n\u001b[1;32m    327\u001b[0m \u001b[0;34m\u001b[0m\u001b[0m\n\u001b[0;32m--> 328\u001b[0;31m             \u001b[0mself\u001b[0m\u001b[0;34m.\u001b[0m\u001b[0m_save_chunk\u001b[0m\u001b[0;34m(\u001b[0m\u001b[0mstart_i\u001b[0m\u001b[0;34m,\u001b[0m \u001b[0mend_i\u001b[0m\u001b[0;34m)\u001b[0m\u001b[0;34m\u001b[0m\u001b[0;34m\u001b[0m\u001b[0m\n\u001b[0m\u001b[1;32m    329\u001b[0m \u001b[0;34m\u001b[0m\u001b[0m\n\u001b[1;32m    330\u001b[0m     \u001b[0;32mdef\u001b[0m \u001b[0m_save_chunk\u001b[0m\u001b[0;34m(\u001b[0m\u001b[0mself\u001b[0m\u001b[0;34m,\u001b[0m \u001b[0mstart_i\u001b[0m\u001b[0;34m:\u001b[0m \u001b[0mint\u001b[0m\u001b[0;34m,\u001b[0m \u001b[0mend_i\u001b[0m\u001b[0;34m:\u001b[0m \u001b[0mint\u001b[0m\u001b[0;34m)\u001b[0m \u001b[0;34m->\u001b[0m \u001b[0;32mNone\u001b[0m\u001b[0;34m:\u001b[0m\u001b[0;34m\u001b[0m\u001b[0;34m\u001b[0m\u001b[0m\n",
            "\u001b[0;32m/usr/local/lib/python3.6/dist-packages/pandas/io/formats/csvs.py\u001b[0m in \u001b[0;36m_save_chunk\u001b[0;34m(self, start_i, end_i)\u001b[0m\n\u001b[1;32m    360\u001b[0m         )\n\u001b[1;32m    361\u001b[0m \u001b[0;34m\u001b[0m\u001b[0m\n\u001b[0;32m--> 362\u001b[0;31m         \u001b[0mlibwriters\u001b[0m\u001b[0;34m.\u001b[0m\u001b[0mwrite_csv_rows\u001b[0m\u001b[0;34m(\u001b[0m\u001b[0mself\u001b[0m\u001b[0;34m.\u001b[0m\u001b[0mdata\u001b[0m\u001b[0;34m,\u001b[0m \u001b[0mix\u001b[0m\u001b[0;34m,\u001b[0m \u001b[0mself\u001b[0m\u001b[0;34m.\u001b[0m\u001b[0mnlevels\u001b[0m\u001b[0;34m,\u001b[0m \u001b[0mself\u001b[0m\u001b[0;34m.\u001b[0m\u001b[0mcols\u001b[0m\u001b[0;34m,\u001b[0m \u001b[0mself\u001b[0m\u001b[0;34m.\u001b[0m\u001b[0mwriter\u001b[0m\u001b[0;34m)\u001b[0m\u001b[0;34m\u001b[0m\u001b[0;34m\u001b[0m\u001b[0m\n\u001b[0m",
            "\u001b[0;32mpandas/_libs/writers.pyx\u001b[0m in \u001b[0;36mpandas._libs.writers.write_csv_rows\u001b[0;34m()\u001b[0m\n",
            "\u001b[0;31mKeyboardInterrupt\u001b[0m: "
          ]
        }
      ]
    },
    {
      "cell_type": "code",
      "metadata": {
        "id": "vl9k2PT8B3J0"
      },
      "source": [
        ""
      ],
      "execution_count": null,
      "outputs": []
    }
  ]
}