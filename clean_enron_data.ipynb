{
 "cells": [
  {
   "cell_type": "markdown",
   "metadata": {},
   "source": [
    "# Cleaning data from the Enron Dataset for Gender Analysis  \n",
    "\n",
    "Original Files can be found at https://www.kaggle.com/amank56/enron-clean-dataset"
   ]
  },
  {
   "cell_type": "code",
   "execution_count": 3,
   "metadata": {
    "colab": {
     "base_uri": "https://localhost:8080/",
     "height": 69
    },
    "id": "UuYdC36nYbXo",
    "outputId": "6c77a8b5-38e1-497a-a8ad-ea1dd45aae84"
   },
   "outputs": [
    {
     "name": "stdout",
     "output_type": "stream",
     "text": [
      "Collecting gender-guesser\n",
      "  Downloading gender_guesser-0.4.0-py2.py3-none-any.whl (379 kB)\n",
      "Installing collected packages: gender-guesser\n",
      "Successfully installed gender-guesser-0.4.0\n"
     ]
    },
    {
     "name": "stderr",
     "output_type": "stream",
     "text": [
      "[nltk_data] Downloading package punkt to\n",
      "[nltk_data]     C:\\Users\\baile\\AppData\\Roaming\\nltk_data...\n",
      "[nltk_data]   Package punkt is already up-to-date!\n"
     ]
    },
    {
     "data": {
      "text/plain": [
       "True"
      ]
     },
     "execution_count": 3,
     "metadata": {},
     "output_type": "execute_result"
    }
   ],
   "source": [
    "import pandas as pd\n",
    "!pip install gender-guesser\n",
    "import gender_guesser.detector as gender#!pip install nltk\n",
    "import nltk\n",
    "nltk.download('punkt')\n",
    "  "
   ]
  },
  {
   "cell_type": "code",
   "execution_count": 5,
   "metadata": {
    "id": "yQMeyNOPYbXv"
   },
   "outputs": [],
   "source": [
    "email_df_0 = pd.read_csv('emaildata0.csv')\n",
    "email_df_1 = pd.read_csv('emaildata1.csv')\n",
    "email_df_2 = pd.read_csv('emaildata2.csv')\n",
    "email_df_3 = pd.read_csv('emaildata3.csv')\n",
    "email_df_4 = pd.read_csv('emaildata4.csv')\n",
    "email_df_5 = pd.read_csv('emaildata5.csv')\n"
   ]
  },
  {
   "cell_type": "code",
   "execution_count": 6,
   "metadata": {
    "id": "OVVOkCz1YbXz"
   },
   "outputs": [],
   "source": [
    "#combine all of the data into one dataframe \n",
    "emails_df = email_df_0.append(email_df_1).append(email_df_2).append(email_df_3).append(email_df_4).append(email_df_5)\n",
    "emails_df.drop(columns = 'Unnamed: 0', inplace = True)\n",
    "emails_df.reset_index(inplace = True)"
   ]
  },
  {
   "cell_type": "code",
   "execution_count": 7,
   "metadata": {
    "id": "MW06O0kzYbX4",
    "outputId": "55241cce-86fd-421a-aa73-26f6e5b7e713"
   },
   "outputs": [
    {
     "data": {
      "text/html": [
       "<div>\n",
       "<style scoped>\n",
       "    .dataframe tbody tr th:only-of-type {\n",
       "        vertical-align: middle;\n",
       "    }\n",
       "\n",
       "    .dataframe tbody tr th {\n",
       "        vertical-align: top;\n",
       "    }\n",
       "\n",
       "    .dataframe thead th {\n",
       "        text-align: right;\n",
       "    }\n",
       "</style>\n",
       "<table border=\"1\" class=\"dataframe\">\n",
       "  <thead>\n",
       "    <tr style=\"text-align: right;\">\n",
       "      <th></th>\n",
       "      <th>index</th>\n",
       "      <th>date</th>\n",
       "      <th>sender</th>\n",
       "      <th>recipient1</th>\n",
       "      <th>subject</th>\n",
       "      <th>text</th>\n",
       "    </tr>\n",
       "  </thead>\n",
       "  <tbody>\n",
       "    <tr>\n",
       "      <th>0</th>\n",
       "      <td>0</td>\n",
       "      <td>2001-05-14 16:39:00-07:00</td>\n",
       "      <td>phillip.allen@enron.com</td>\n",
       "      <td>tim.belden@enron.com</td>\n",
       "      <td>NaN</td>\n",
       "      <td>['', 'Here is our forecast', '', ' ']</td>\n",
       "    </tr>\n",
       "    <tr>\n",
       "      <th>1</th>\n",
       "      <td>1</td>\n",
       "      <td>2001-05-04 13:51:00-07:00</td>\n",
       "      <td>phillip.allen@enron.com</td>\n",
       "      <td>john.lavorato@enron.com</td>\n",
       "      <td>Re:</td>\n",
       "      <td>['', 'Traveling to have a business meeting tak...</td>\n",
       "    </tr>\n",
       "    <tr>\n",
       "      <th>2</th>\n",
       "      <td>2</td>\n",
       "      <td>2000-10-18 03:00:00-07:00</td>\n",
       "      <td>phillip.allen@enron.com</td>\n",
       "      <td>leah.arsdall@enron.com</td>\n",
       "      <td>Re: test</td>\n",
       "      <td>['', 'test successful.  way to go!!!']</td>\n",
       "    </tr>\n",
       "    <tr>\n",
       "      <th>3</th>\n",
       "      <td>3</td>\n",
       "      <td>2000-10-23 06:13:00-07:00</td>\n",
       "      <td>phillip.allen@enron.com</td>\n",
       "      <td>randall.gay@enron.com</td>\n",
       "      <td>NaN</td>\n",
       "      <td>['', 'Randy,', '', ' Can you send me a schedul...</td>\n",
       "    </tr>\n",
       "    <tr>\n",
       "      <th>4</th>\n",
       "      <td>4</td>\n",
       "      <td>2000-08-31 05:07:00-07:00</td>\n",
       "      <td>phillip.allen@enron.com</td>\n",
       "      <td>greg.piper@enron.com</td>\n",
       "      <td>Re: Hello</td>\n",
       "      <td>['', \"Let's shoot for Tuesday at 11:45.  \"]</td>\n",
       "    </tr>\n",
       "  </tbody>\n",
       "</table>\n",
       "</div>"
      ],
      "text/plain": [
       "   index                       date                   sender  \\\n",
       "0      0  2001-05-14 16:39:00-07:00  phillip.allen@enron.com   \n",
       "1      1  2001-05-04 13:51:00-07:00  phillip.allen@enron.com   \n",
       "2      2  2000-10-18 03:00:00-07:00  phillip.allen@enron.com   \n",
       "3      3  2000-10-23 06:13:00-07:00  phillip.allen@enron.com   \n",
       "4      4  2000-08-31 05:07:00-07:00  phillip.allen@enron.com   \n",
       "\n",
       "                recipient1    subject  \\\n",
       "0     tim.belden@enron.com        NaN   \n",
       "1  john.lavorato@enron.com        Re:   \n",
       "2   leah.arsdall@enron.com   Re: test   \n",
       "3    randall.gay@enron.com        NaN   \n",
       "4     greg.piper@enron.com  Re: Hello   \n",
       "\n",
       "                                                text  \n",
       "0              ['', 'Here is our forecast', '', ' ']  \n",
       "1  ['', 'Traveling to have a business meeting tak...  \n",
       "2             ['', 'test successful.  way to go!!!']  \n",
       "3  ['', 'Randy,', '', ' Can you send me a schedul...  \n",
       "4        ['', \"Let's shoot for Tuesday at 11:45.  \"]  "
      ]
     },
     "execution_count": 7,
     "metadata": {},
     "output_type": "execute_result"
    }
   ],
   "source": [
    "emails_df.head()"
   ]
  },
  {
   "cell_type": "markdown",
   "metadata": {
    "id": "ihYprFKpYbX_"
   },
   "source": [
    "Drop any emails that were not sent to people with @enron.com - we only want to look at emails within the company"
   ]
  },
  {
   "cell_type": "code",
   "execution_count": 8,
   "metadata": {
    "id": "eI0vjXsHYbYA"
   },
   "outputs": [],
   "source": [
    "sent_within_company = [(emails_df.loc[row, 'recipient1'][-9:] == 'enron.com') & ((emails_df.loc[row, 'sender'][-9:] == 'enron.com')) for row in range(len(emails_df))]"
   ]
  },
  {
   "cell_type": "markdown",
   "metadata": {
    "id": "RDOKbd2yYbYE"
   },
   "source": [
    "it looks like only about 68% of the emails were sent within the company - we are only going to use those 68% for now"
   ]
  },
  {
   "cell_type": "code",
   "execution_count": 9,
   "metadata": {
    "id": "CWPbzm60YbYF",
    "outputId": "802b6750-ee6c-4276-b38c-963cd41b7b03"
   },
   "outputs": [
    {
     "data": {
      "text/plain": [
       "0.6829996452922398"
      ]
     },
     "execution_count": 9,
     "metadata": {},
     "output_type": "execute_result"
    }
   ],
   "source": [
    "sum(sent_within_company) / len(emails_df)"
   ]
  },
  {
   "cell_type": "code",
   "execution_count": 13,
   "metadata": {
    "id": "Qh7lUjVkYbYI"
   },
   "outputs": [],
   "source": [
    "emails_within_company = emails_df[sent_within_company]"
   ]
  },
  {
   "cell_type": "code",
   "execution_count": 14,
   "metadata": {
    "id": "bB4fmLNbxbMo"
   },
   "outputs": [
    {
     "name": "stderr",
     "output_type": "stream",
     "text": [
      "C:\\Users\\baile\\anaconda3\\lib\\site-packages\\pandas\\core\\indexing.py:845: SettingWithCopyWarning: \n",
      "A value is trying to be set on a copy of a slice from a DataFrame.\n",
      "Try using .loc[row_indexer,col_indexer] = value instead\n",
      "\n",
      "See the caveats in the documentation: https://pandas.pydata.org/pandas-docs/stable/user_guide/indexing.html#returning-a-view-versus-a-copy\n",
      "  self.obj[key] = _infer_fill_value(value)\n",
      "C:\\Users\\baile\\anaconda3\\lib\\site-packages\\pandas\\core\\indexing.py:966: SettingWithCopyWarning: \n",
      "A value is trying to be set on a copy of a slice from a DataFrame.\n",
      "Try using .loc[row_indexer,col_indexer] = value instead\n",
      "\n",
      "See the caveats in the documentation: https://pandas.pydata.org/pandas-docs/stable/user_guide/indexing.html#returning-a-view-versus-a-copy\n",
      "  self.obj[item] = s\n"
     ]
    }
   ],
   "source": [
    "emails_within_company.loc[:, 'sender_name'] = [email.split('.')[0] for email in emails_within_company.loc[:, 'sender']]\n",
    "emails_within_company.loc[:, 'recipient_name'] = [email.split('.')[0] for email in emails_within_company.loc[:, 'recipient1']]"
   ]
  },
  {
   "cell_type": "markdown",
   "metadata": {
    "id": "c-mC21hplQx4"
   },
   "source": [
    "Drop any names that have an at symbol in them - we assume that these are with IT desks, help desks, or other services such as this, and we won't be able to pull a gender from that anyway"
   ]
  },
  {
   "cell_type": "code",
   "execution_count": 15,
   "metadata": {
    "colab": {
     "base_uri": "https://localhost:8080/",
     "height": 202
    },
    "id": "Y6XDYv7QiWpm",
    "outputId": "65dc7cb3-9a80-4e11-a746-568078e793de"
   },
   "outputs": [
    {
     "data": {
      "text/html": [
       "<div>\n",
       "<style scoped>\n",
       "    .dataframe tbody tr th:only-of-type {\n",
       "        vertical-align: middle;\n",
       "    }\n",
       "\n",
       "    .dataframe tbody tr th {\n",
       "        vertical-align: top;\n",
       "    }\n",
       "\n",
       "    .dataframe thead th {\n",
       "        text-align: right;\n",
       "    }\n",
       "</style>\n",
       "<table border=\"1\" class=\"dataframe\">\n",
       "  <thead>\n",
       "    <tr style=\"text-align: right;\">\n",
       "      <th></th>\n",
       "      <th>index</th>\n",
       "      <th>date</th>\n",
       "      <th>sender</th>\n",
       "      <th>recipient1</th>\n",
       "      <th>subject</th>\n",
       "      <th>text</th>\n",
       "      <th>sender_name</th>\n",
       "      <th>recipient_name</th>\n",
       "    </tr>\n",
       "  </thead>\n",
       "  <tbody>\n",
       "    <tr>\n",
       "      <th>0</th>\n",
       "      <td>0</td>\n",
       "      <td>2001-05-14 16:39:00-07:00</td>\n",
       "      <td>phillip.allen@enron.com</td>\n",
       "      <td>tim.belden@enron.com</td>\n",
       "      <td>NaN</td>\n",
       "      <td>['', 'Here is our forecast', '', ' ']</td>\n",
       "      <td>phillip</td>\n",
       "      <td>tim</td>\n",
       "    </tr>\n",
       "    <tr>\n",
       "      <th>1</th>\n",
       "      <td>1</td>\n",
       "      <td>2001-05-04 13:51:00-07:00</td>\n",
       "      <td>phillip.allen@enron.com</td>\n",
       "      <td>john.lavorato@enron.com</td>\n",
       "      <td>Re:</td>\n",
       "      <td>['', 'Traveling to have a business meeting tak...</td>\n",
       "      <td>phillip</td>\n",
       "      <td>john</td>\n",
       "    </tr>\n",
       "    <tr>\n",
       "      <th>2</th>\n",
       "      <td>2</td>\n",
       "      <td>2000-10-18 03:00:00-07:00</td>\n",
       "      <td>phillip.allen@enron.com</td>\n",
       "      <td>leah.arsdall@enron.com</td>\n",
       "      <td>Re: test</td>\n",
       "      <td>['', 'test successful.  way to go!!!']</td>\n",
       "      <td>phillip</td>\n",
       "      <td>leah</td>\n",
       "    </tr>\n",
       "    <tr>\n",
       "      <th>3</th>\n",
       "      <td>3</td>\n",
       "      <td>2000-10-23 06:13:00-07:00</td>\n",
       "      <td>phillip.allen@enron.com</td>\n",
       "      <td>randall.gay@enron.com</td>\n",
       "      <td>NaN</td>\n",
       "      <td>['', 'Randy,', '', ' Can you send me a schedul...</td>\n",
       "      <td>phillip</td>\n",
       "      <td>randall</td>\n",
       "    </tr>\n",
       "    <tr>\n",
       "      <th>4</th>\n",
       "      <td>4</td>\n",
       "      <td>2000-08-31 05:07:00-07:00</td>\n",
       "      <td>phillip.allen@enron.com</td>\n",
       "      <td>greg.piper@enron.com</td>\n",
       "      <td>Re: Hello</td>\n",
       "      <td>['', \"Let's shoot for Tuesday at 11:45.  \"]</td>\n",
       "      <td>phillip</td>\n",
       "      <td>greg</td>\n",
       "    </tr>\n",
       "  </tbody>\n",
       "</table>\n",
       "</div>"
      ],
      "text/plain": [
       "   index                       date                   sender  \\\n",
       "0      0  2001-05-14 16:39:00-07:00  phillip.allen@enron.com   \n",
       "1      1  2001-05-04 13:51:00-07:00  phillip.allen@enron.com   \n",
       "2      2  2000-10-18 03:00:00-07:00  phillip.allen@enron.com   \n",
       "3      3  2000-10-23 06:13:00-07:00  phillip.allen@enron.com   \n",
       "4      4  2000-08-31 05:07:00-07:00  phillip.allen@enron.com   \n",
       "\n",
       "                recipient1    subject  \\\n",
       "0     tim.belden@enron.com        NaN   \n",
       "1  john.lavorato@enron.com        Re:   \n",
       "2   leah.arsdall@enron.com   Re: test   \n",
       "3    randall.gay@enron.com        NaN   \n",
       "4     greg.piper@enron.com  Re: Hello   \n",
       "\n",
       "                                                text sender_name  \\\n",
       "0              ['', 'Here is our forecast', '', ' ']     phillip   \n",
       "1  ['', 'Traveling to have a business meeting tak...     phillip   \n",
       "2             ['', 'test successful.  way to go!!!']     phillip   \n",
       "3  ['', 'Randy,', '', ' Can you send me a schedul...     phillip   \n",
       "4        ['', \"Let's shoot for Tuesday at 11:45.  \"]     phillip   \n",
       "\n",
       "  recipient_name  \n",
       "0            tim  \n",
       "1           john  \n",
       "2           leah  \n",
       "3        randall  \n",
       "4           greg  "
      ]
     },
     "execution_count": 15,
     "metadata": {},
     "output_type": "execute_result"
    }
   ],
   "source": [
    "intra_employee_emails = emails_within_company[[('@' not in email) for email in emails_within_company['sender_name']]]\n",
    "intra_employee_emails = intra_employee_emails[[('@' not in email) for email in intra_employee_emails['recipient_name']]]\n",
    "\n",
    "intra_employee_emails.head()"
   ]
  },
  {
   "cell_type": "markdown",
   "metadata": {
    "id": "U2wdyU8sZD9a"
   },
   "source": [
    "## Parse the sender and recipient emails to pull off just their first names"
   ]
  },
  {
   "cell_type": "markdown",
   "metadata": {
    "id": "beu8My2jlDeo"
   },
   "source": [
    "First, We will drop any of the rows that have a sender or recipient name of a single letter - our gender guesser won't be able to figure out the gender accurately for these"
   ]
  },
  {
   "cell_type": "code",
   "execution_count": 16,
   "metadata": {
    "id": "txtGAof-kJ6i"
   },
   "outputs": [],
   "source": [
    "intra_employee_emails = intra_employee_emails[[(len(name) >= 2) for name in intra_employee_emails['sender_name']]]\n",
    "intra_employee_emails = intra_employee_emails[[(len(name) >= 2) for name in intra_employee_emails['recipient_name']]]"
   ]
  },
  {
   "cell_type": "markdown",
   "metadata": {
    "id": "wWbkw51MljK1"
   },
   "source": [
    "Next, we will make the first letter of each name uppercase and the rest lowercase-  that is what the gender guesser function requires"
   ]
  },
  {
   "cell_type": "code",
   "execution_count": 17,
   "metadata": {
    "id": "MwVOi3mslo-L"
   },
   "outputs": [],
   "source": [
    "intra_employee_emails['sender_name'] = [(name[0].upper() + name[1:].lower()) for name in intra_employee_emails['sender_name']]\n",
    "intra_employee_emails['recipient_name'] = [(name[0].upper() + name[1:].lower()) for name in intra_employee_emails['recipient_name']]"
   ]
  },
  {
   "cell_type": "code",
   "execution_count": 18,
   "metadata": {
    "colab": {
     "base_uri": "https://localhost:8080/",
     "height": 202
    },
    "id": "06efn6Tkl4-7",
    "outputId": "84701145-6072-4643-9e2f-c385ee664703"
   },
   "outputs": [
    {
     "data": {
      "text/html": [
       "<div>\n",
       "<style scoped>\n",
       "    .dataframe tbody tr th:only-of-type {\n",
       "        vertical-align: middle;\n",
       "    }\n",
       "\n",
       "    .dataframe tbody tr th {\n",
       "        vertical-align: top;\n",
       "    }\n",
       "\n",
       "    .dataframe thead th {\n",
       "        text-align: right;\n",
       "    }\n",
       "</style>\n",
       "<table border=\"1\" class=\"dataframe\">\n",
       "  <thead>\n",
       "    <tr style=\"text-align: right;\">\n",
       "      <th></th>\n",
       "      <th>index</th>\n",
       "      <th>date</th>\n",
       "      <th>sender</th>\n",
       "      <th>recipient1</th>\n",
       "      <th>subject</th>\n",
       "      <th>text</th>\n",
       "      <th>sender_name</th>\n",
       "      <th>recipient_name</th>\n",
       "    </tr>\n",
       "  </thead>\n",
       "  <tbody>\n",
       "    <tr>\n",
       "      <th>0</th>\n",
       "      <td>0</td>\n",
       "      <td>2001-05-14 16:39:00-07:00</td>\n",
       "      <td>phillip.allen@enron.com</td>\n",
       "      <td>tim.belden@enron.com</td>\n",
       "      <td>NaN</td>\n",
       "      <td>['', 'Here is our forecast', '', ' ']</td>\n",
       "      <td>Phillip</td>\n",
       "      <td>Tim</td>\n",
       "    </tr>\n",
       "    <tr>\n",
       "      <th>1</th>\n",
       "      <td>1</td>\n",
       "      <td>2001-05-04 13:51:00-07:00</td>\n",
       "      <td>phillip.allen@enron.com</td>\n",
       "      <td>john.lavorato@enron.com</td>\n",
       "      <td>Re:</td>\n",
       "      <td>['', 'Traveling to have a business meeting tak...</td>\n",
       "      <td>Phillip</td>\n",
       "      <td>John</td>\n",
       "    </tr>\n",
       "    <tr>\n",
       "      <th>2</th>\n",
       "      <td>2</td>\n",
       "      <td>2000-10-18 03:00:00-07:00</td>\n",
       "      <td>phillip.allen@enron.com</td>\n",
       "      <td>leah.arsdall@enron.com</td>\n",
       "      <td>Re: test</td>\n",
       "      <td>['', 'test successful.  way to go!!!']</td>\n",
       "      <td>Phillip</td>\n",
       "      <td>Leah</td>\n",
       "    </tr>\n",
       "    <tr>\n",
       "      <th>3</th>\n",
       "      <td>3</td>\n",
       "      <td>2000-10-23 06:13:00-07:00</td>\n",
       "      <td>phillip.allen@enron.com</td>\n",
       "      <td>randall.gay@enron.com</td>\n",
       "      <td>NaN</td>\n",
       "      <td>['', 'Randy,', '', ' Can you send me a schedul...</td>\n",
       "      <td>Phillip</td>\n",
       "      <td>Randall</td>\n",
       "    </tr>\n",
       "    <tr>\n",
       "      <th>4</th>\n",
       "      <td>4</td>\n",
       "      <td>2000-08-31 05:07:00-07:00</td>\n",
       "      <td>phillip.allen@enron.com</td>\n",
       "      <td>greg.piper@enron.com</td>\n",
       "      <td>Re: Hello</td>\n",
       "      <td>['', \"Let's shoot for Tuesday at 11:45.  \"]</td>\n",
       "      <td>Phillip</td>\n",
       "      <td>Greg</td>\n",
       "    </tr>\n",
       "  </tbody>\n",
       "</table>\n",
       "</div>"
      ],
      "text/plain": [
       "   index                       date                   sender  \\\n",
       "0      0  2001-05-14 16:39:00-07:00  phillip.allen@enron.com   \n",
       "1      1  2001-05-04 13:51:00-07:00  phillip.allen@enron.com   \n",
       "2      2  2000-10-18 03:00:00-07:00  phillip.allen@enron.com   \n",
       "3      3  2000-10-23 06:13:00-07:00  phillip.allen@enron.com   \n",
       "4      4  2000-08-31 05:07:00-07:00  phillip.allen@enron.com   \n",
       "\n",
       "                recipient1    subject  \\\n",
       "0     tim.belden@enron.com        NaN   \n",
       "1  john.lavorato@enron.com        Re:   \n",
       "2   leah.arsdall@enron.com   Re: test   \n",
       "3    randall.gay@enron.com        NaN   \n",
       "4     greg.piper@enron.com  Re: Hello   \n",
       "\n",
       "                                                text sender_name  \\\n",
       "0              ['', 'Here is our forecast', '', ' ']     Phillip   \n",
       "1  ['', 'Traveling to have a business meeting tak...     Phillip   \n",
       "2             ['', 'test successful.  way to go!!!']     Phillip   \n",
       "3  ['', 'Randy,', '', ' Can you send me a schedul...     Phillip   \n",
       "4        ['', \"Let's shoot for Tuesday at 11:45.  \"]     Phillip   \n",
       "\n",
       "  recipient_name  \n",
       "0            Tim  \n",
       "1           John  \n",
       "2           Leah  \n",
       "3        Randall  \n",
       "4           Greg  "
      ]
     },
     "execution_count": 18,
     "metadata": {},
     "output_type": "execute_result"
    }
   ],
   "source": [
    "intra_employee_emails.head()"
   ]
  },
  {
   "cell_type": "markdown",
   "metadata": {},
   "source": [
    "## Next, we will add a label with our best guess of what the sender's and recipient's genders were "
   ]
  },
  {
   "cell_type": "markdown",
   "metadata": {
    "id": "aaHotCrBZgLk"
   },
   "source": [
    "Gender Guesser Documentation \n",
    "\n",
    "\n",
    "https://pypi.org/project/gender-guesser/"
   ]
  },
  {
   "cell_type": "code",
   "execution_count": 21,
   "metadata": {
    "id": "WNnfGDBPZXRJ"
   },
   "outputs": [],
   "source": [
    "d = gender.Detector()\n",
    "\n",
    "intra_employee_emails.loc[:, 'sender_gender'] = [d.get_gender(name, 'usa') for name in intra_employee_emails['sender_name']]\n",
    "intra_employee_emails.loc[:, 'recipient_gender'] = [d.get_gender(name, 'usa') for name in intra_employee_emails['recipient_name']]\n",
    "\n",
    "#drop the ones that have an unknown gender - they are names like \"Public Relations\", \"Energy\", etc\n",
    "intra_employee_emails = intra_employee_emails[(intra_employee_emails['sender_gender'] != 'unknown') & (intra_employee_emails['recipient_gender'] != 'unknown')]"
   ]
  },
  {
   "cell_type": "code",
   "execution_count": 22,
   "metadata": {
    "colab": {
     "base_uri": "https://localhost:8080/",
     "height": 202
    },
    "id": "2pTNPKoTmhdx",
    "outputId": "022b039e-fc05-40b1-a7b0-9b316e0c718a"
   },
   "outputs": [
    {
     "data": {
      "text/html": [
       "<div>\n",
       "<style scoped>\n",
       "    .dataframe tbody tr th:only-of-type {\n",
       "        vertical-align: middle;\n",
       "    }\n",
       "\n",
       "    .dataframe tbody tr th {\n",
       "        vertical-align: top;\n",
       "    }\n",
       "\n",
       "    .dataframe thead th {\n",
       "        text-align: right;\n",
       "    }\n",
       "</style>\n",
       "<table border=\"1\" class=\"dataframe\">\n",
       "  <thead>\n",
       "    <tr style=\"text-align: right;\">\n",
       "      <th></th>\n",
       "      <th>index</th>\n",
       "      <th>date</th>\n",
       "      <th>sender</th>\n",
       "      <th>recipient1</th>\n",
       "      <th>subject</th>\n",
       "      <th>text</th>\n",
       "      <th>sender_name</th>\n",
       "      <th>recipient_name</th>\n",
       "      <th>sender_gender</th>\n",
       "      <th>recipient_gender</th>\n",
       "    </tr>\n",
       "  </thead>\n",
       "  <tbody>\n",
       "    <tr>\n",
       "      <th>0</th>\n",
       "      <td>0</td>\n",
       "      <td>2001-05-14 16:39:00-07:00</td>\n",
       "      <td>phillip.allen@enron.com</td>\n",
       "      <td>tim.belden@enron.com</td>\n",
       "      <td>NaN</td>\n",
       "      <td>['', 'Here is our forecast', '', ' ']</td>\n",
       "      <td>Phillip</td>\n",
       "      <td>Tim</td>\n",
       "      <td>male</td>\n",
       "      <td>male</td>\n",
       "    </tr>\n",
       "    <tr>\n",
       "      <th>1</th>\n",
       "      <td>1</td>\n",
       "      <td>2001-05-04 13:51:00-07:00</td>\n",
       "      <td>phillip.allen@enron.com</td>\n",
       "      <td>john.lavorato@enron.com</td>\n",
       "      <td>Re:</td>\n",
       "      <td>['', 'Traveling to have a business meeting tak...</td>\n",
       "      <td>Phillip</td>\n",
       "      <td>John</td>\n",
       "      <td>male</td>\n",
       "      <td>male</td>\n",
       "    </tr>\n",
       "    <tr>\n",
       "      <th>2</th>\n",
       "      <td>2</td>\n",
       "      <td>2000-10-18 03:00:00-07:00</td>\n",
       "      <td>phillip.allen@enron.com</td>\n",
       "      <td>leah.arsdall@enron.com</td>\n",
       "      <td>Re: test</td>\n",
       "      <td>['', 'test successful.  way to go!!!']</td>\n",
       "      <td>Phillip</td>\n",
       "      <td>Leah</td>\n",
       "      <td>male</td>\n",
       "      <td>female</td>\n",
       "    </tr>\n",
       "    <tr>\n",
       "      <th>3</th>\n",
       "      <td>3</td>\n",
       "      <td>2000-10-23 06:13:00-07:00</td>\n",
       "      <td>phillip.allen@enron.com</td>\n",
       "      <td>randall.gay@enron.com</td>\n",
       "      <td>NaN</td>\n",
       "      <td>['', 'Randy,', '', ' Can you send me a schedul...</td>\n",
       "      <td>Phillip</td>\n",
       "      <td>Randall</td>\n",
       "      <td>male</td>\n",
       "      <td>male</td>\n",
       "    </tr>\n",
       "    <tr>\n",
       "      <th>4</th>\n",
       "      <td>4</td>\n",
       "      <td>2000-08-31 05:07:00-07:00</td>\n",
       "      <td>phillip.allen@enron.com</td>\n",
       "      <td>greg.piper@enron.com</td>\n",
       "      <td>Re: Hello</td>\n",
       "      <td>['', \"Let's shoot for Tuesday at 11:45.  \"]</td>\n",
       "      <td>Phillip</td>\n",
       "      <td>Greg</td>\n",
       "      <td>male</td>\n",
       "      <td>male</td>\n",
       "    </tr>\n",
       "  </tbody>\n",
       "</table>\n",
       "</div>"
      ],
      "text/plain": [
       "   index                       date                   sender  \\\n",
       "0      0  2001-05-14 16:39:00-07:00  phillip.allen@enron.com   \n",
       "1      1  2001-05-04 13:51:00-07:00  phillip.allen@enron.com   \n",
       "2      2  2000-10-18 03:00:00-07:00  phillip.allen@enron.com   \n",
       "3      3  2000-10-23 06:13:00-07:00  phillip.allen@enron.com   \n",
       "4      4  2000-08-31 05:07:00-07:00  phillip.allen@enron.com   \n",
       "\n",
       "                recipient1    subject  \\\n",
       "0     tim.belden@enron.com        NaN   \n",
       "1  john.lavorato@enron.com        Re:   \n",
       "2   leah.arsdall@enron.com   Re: test   \n",
       "3    randall.gay@enron.com        NaN   \n",
       "4     greg.piper@enron.com  Re: Hello   \n",
       "\n",
       "                                                text sender_name  \\\n",
       "0              ['', 'Here is our forecast', '', ' ']     Phillip   \n",
       "1  ['', 'Traveling to have a business meeting tak...     Phillip   \n",
       "2             ['', 'test successful.  way to go!!!']     Phillip   \n",
       "3  ['', 'Randy,', '', ' Can you send me a schedul...     Phillip   \n",
       "4        ['', \"Let's shoot for Tuesday at 11:45.  \"]     Phillip   \n",
       "\n",
       "  recipient_name sender_gender recipient_gender  \n",
       "0            Tim          male             male  \n",
       "1           John          male             male  \n",
       "2           Leah          male           female  \n",
       "3        Randall          male             male  \n",
       "4           Greg          male             male  "
      ]
     },
     "execution_count": 22,
     "metadata": {},
     "output_type": "execute_result"
    }
   ],
   "source": [
    "intra_employee_emails.head()"
   ]
  },
  {
   "cell_type": "code",
   "execution_count": 25,
   "metadata": {
    "id": "omtczR-85a1s"
   },
   "outputs": [],
   "source": [
    "accepted_chars = ['!', ' ', '.', '?']\n",
    "#remove any characters besides certain punctuation, letters, and numbers\n",
    "# we are doing this because the kaggle link where we downloaded the data from was parsed, but Python read it as a string - we will get rid of the extra commas and brackets\n",
    "def remove_unwanted_chars(text):\n",
    "    return (''.join(ch for ch in text if (ch.isalnum() or ch in accepted_chars))).strip(' ')\n",
    "\n",
    "\n",
    "intra_employee_emails['clean_text'] = intra_employee_emails['text'].apply(remove_unwanted_chars)"
   ]
  },
  {
   "cell_type": "code",
   "execution_count": null,
   "metadata": {
    "colab": {
     "base_uri": "https://localhost:8080/",
     "height": 310
    },
    "id": "jSNXmivN3RCC",
    "outputId": "aa61e063-2517-4b3c-bd51-b466a1cf62a0"
   },
   "outputs": [],
   "source": [
    "#output the clean data to a csv file\n",
    "intra_employee_emails.to_csv('/content/drive/Shared drives/TAMU-Datathon-2020/clean_enron_emails.csv')"
   ]
  },
  {
   "cell_type": "code",
   "execution_count": null,
   "metadata": {
    "id": "vl9k2PT8B3J0"
   },
   "outputs": [],
   "source": [
    "#project analysis can be found in enron_gender_analysis.ipynb "
   ]
  }
 ],
 "metadata": {
  "colab": {
   "collapsed_sections": [],
   "name": "clean_enron_data.ipynb",
   "provenance": []
  },
  "kernelspec": {
   "display_name": "Python 3",
   "language": "python",
   "name": "python3"
  },
  "language_info": {
   "codemirror_mode": {
    "name": "ipython",
    "version": 3
   },
   "file_extension": ".py",
   "mimetype": "text/x-python",
   "name": "python",
   "nbconvert_exporter": "python",
   "pygments_lexer": "ipython3",
   "version": "3.8.3"
  }
 },
 "nbformat": 4,
 "nbformat_minor": 1
}
